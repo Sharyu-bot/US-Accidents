{
  "nbformat": 4,
  "nbformat_minor": 0,
  "metadata": {
    "colab": {
      "name": "US Accidents.ipynb",
      "provenance": [],
      "collapsed_sections": [
        "H16ABKOFbHTl"
      ],
      "authorship_tag": "ABX9TyPZwVHY1LCS814FKpkBT4da",
      "include_colab_link": true
    },
    "kernelspec": {
      "name": "python3",
      "display_name": "Python 3"
    },
    "language_info": {
      "name": "python"
    }
  },
  "cells": [
    {
      "cell_type": "markdown",
      "metadata": {
        "id": "view-in-github",
        "colab_type": "text"
      },
      "source": [
        "<a href=\"https://colab.research.google.com/github/Sharyu-bot/US-Accidents/blob/main/US_Accidents.ipynb\" target=\"_parent\"><img src=\"https://colab.research.google.com/assets/colab-badge.svg\" alt=\"Open In Colab\"/></a>"
      ]
    },
    {
      "cell_type": "markdown",
      "metadata": {
        "id": "lp-FBvg_Z9tt"
      },
      "source": [
        ""
      ]
    },
    {
      "cell_type": "markdown",
      "metadata": {
        "id": "YfN2PW_xaLlu"
      },
      "source": [
        "## US accidents Analysis"
      ]
    },
    {
      "cell_type": "code",
      "metadata": {
        "id": "aMQW76SVaV5m"
      },
      "source": [
        "pip install opendatasets --upgrade --quiet"
      ],
      "execution_count": null,
      "outputs": []
    },
    {
      "cell_type": "code",
      "metadata": {
        "id": "mXo02QhVaV2B"
      },
      "source": [
        "import opendatasets as od\n",
        "\n",
        "download_url = 'https://www.kaggle.com/sobhanmoosavi/us-accidents'\n",
        "\n",
        "od.download(download_url)"
      ],
      "execution_count": null,
      "outputs": []
    },
    {
      "cell_type": "code",
      "metadata": {
        "id": "9chMZBEEaVzW"
      },
      "source": [
        "data_filename = '/content/us-accidents/US_Accidents_Dec20_Updated.csv'"
      ],
      "execution_count": null,
      "outputs": []
    },
    {
      "cell_type": "markdown",
      "metadata": {
        "id": "Q3MYjcz0aXjD"
      },
      "source": [
        "### Data Preparation and cleaning\n"
      ]
    },
    {
      "cell_type": "code",
      "metadata": {
        "id": "B9dnPykfaVwt"
      },
      "source": [
        "import pandas as pd "
      ],
      "execution_count": null,
      "outputs": []
    },
    {
      "cell_type": "code",
      "metadata": {
        "id": "H3gcSg2caVt5"
      },
      "source": [
        "df = pd.read_csv(data_filename)"
      ],
      "execution_count": null,
      "outputs": []
    },
    {
      "cell_type": "code",
      "metadata": {
        "id": "QLzlsyB3v-D_"
      },
      "source": [
        "df\n"
      ],
      "execution_count": null,
      "outputs": []
    },
    {
      "cell_type": "code",
      "metadata": {
        "id": "Kx2N0xg5aVrg"
      },
      "source": [
        "df.columns\n"
      ],
      "execution_count": null,
      "outputs": []
    },
    {
      "cell_type": "code",
      "metadata": {
        "id": "rG9nt4dMwHkc"
      },
      "source": [
        "df.info()"
      ],
      "execution_count": null,
      "outputs": []
    },
    {
      "cell_type": "code",
      "metadata": {
        "id": "SkFAUkOc24e8"
      },
      "source": [
        "df.describe()"
      ],
      "execution_count": null,
      "outputs": []
    },
    {
      "cell_type": "code",
      "metadata": {
        "id": "Ry5bGWORpzOu"
      },
      "source": [
        "numeric=('int16','int32','int64','float16','float32','float64')\n",
        "numeric_df = df.select_dtypes(include=numeric)\n",
        "len(numeric_df.columns)"
      ],
      "execution_count": null,
      "outputs": []
    },
    {
      "cell_type": "code",
      "metadata": {
        "id": "2PAvPZdCp0bM"
      },
      "source": [
        "df.isna().sum()"
      ],
      "execution_count": null,
      "outputs": []
    },
    {
      "cell_type": "code",
      "metadata": {
        "id": "SSEflwK6p0W9"
      },
      "source": [
        "# Percentage of missing values\n",
        "\n",
        "df.isna().sum().sort_values(ascending=False)"
      ],
      "execution_count": null,
      "outputs": []
    },
    {
      "cell_type": "code",
      "metadata": {
        "id": "dnASvedFp0UU"
      },
      "source": [
        "missing_percentage=df.isna().sum().sort_values(ascending=False)/len(df)\n",
        "missing_percentage"
      ],
      "execution_count": null,
      "outputs": []
    },
    {
      "cell_type": "code",
      "metadata": {
        "id": "HTQ_zArSp0Md"
      },
      "source": [
        "missing_percentage[missing_percentage !=0].plot(kind='barh')"
      ],
      "execution_count": null,
      "outputs": []
    },
    {
      "cell_type": "code",
      "metadata": {
        "id": "YElxATsdw974"
      },
      "source": [
        "#remove zero from the column\n",
        "missing_percentage != 0"
      ],
      "execution_count": null,
      "outputs": []
    },
    {
      "cell_type": "markdown",
      "metadata": {
        "id": "-jo_EXGgazZk"
      },
      "source": [
        "### Exploratory anylysis and visualization \n",
        "1. city \n",
        "2. start time\n",
        "3. start lat, start longi\n"
      ]
    },
    {
      "cell_type": "code",
      "metadata": {
        "id": "4mO4q2-paVmC"
      },
      "source": [
        "df.columns"
      ],
      "execution_count": null,
      "outputs": []
    },
    {
      "cell_type": "code",
      "metadata": {
        "id": "0h_evCEdaVjU"
      },
      "source": [
        "df.City.unique()"
      ],
      "execution_count": null,
      "outputs": []
    },
    {
      "cell_type": "code",
      "metadata": {
        "id": "sWRI0_LY74pE"
      },
      "source": [
        "city=df.City.unique()\n",
        "len(city[:10])"
      ],
      "execution_count": null,
      "outputs": []
    },
    {
      "cell_type": "code",
      "metadata": {
        "id": "aesYX9Jg74ln"
      },
      "source": [
        "city_by_accident=df.City.value_counts()\n",
        "city_by_accident[:10]"
      ],
      "execution_count": null,
      "outputs": []
    },
    {
      "cell_type": "code",
      "metadata": {
        "id": "YwoA_Fi_74jC"
      },
      "source": [
        "'New York' in df.City"
      ],
      "execution_count": null,
      "outputs": []
    },
    {
      "cell_type": "markdown",
      "metadata": {
        "id": "7MJ1_xZyMBGY"
      },
      "source": [
        "#####High no. of accidents in top 20 cities."
      ]
    },
    {
      "cell_type": "code",
      "metadata": {
        "id": "mY9STTYs74gK"
      },
      "source": [
        "city_by_accident[:20].plot(kind='barh')"
      ],
      "execution_count": null,
      "outputs": []
    },
    {
      "cell_type": "code",
      "metadata": {
        "id": "KCkvrnch73O_"
      },
      "source": [
        "import seaborn as sns\n",
        "sns.set_style('darkgrid')"
      ],
      "execution_count": null,
      "outputs": []
    },
    {
      "cell_type": "code",
      "metadata": {
        "id": "hC1MntJV-FMj"
      },
      "source": [
        "sns.distplot(city_by_accident)"
      ],
      "execution_count": null,
      "outputs": []
    },
    {
      "cell_type": "markdown",
      "metadata": {
        "id": "oB3_oUxiMZUv"
      },
      "source": [
        "##### Comparing the no. the highest and lowest accidents occured in cities "
      ]
    },
    {
      "cell_type": "code",
      "metadata": {
        "id": "JnOm-nBQMxCi"
      },
      "source": [
        "high_accidents_city=city_by_accident[city_by_accident>=1000]"
      ],
      "execution_count": null,
      "outputs": []
    },
    {
      "cell_type": "code",
      "metadata": {
        "id": "rrqxw2HwMydC"
      },
      "source": [
        "low_accidents_city=city_by_accident[city_by_accident < 1000]"
      ],
      "execution_count": null,
      "outputs": []
    },
    {
      "cell_type": "code",
      "metadata": {
        "id": "M80DhkiTMyZ2"
      },
      "source": [
        "len(high_accidents_city)/len(city)"
      ],
      "execution_count": null,
      "outputs": []
    },
    {
      "cell_type": "code",
      "metadata": {
        "id": "gyWG4KqdMyWR"
      },
      "source": [
        "sns.histplot(high_accidents_city , log_scale=True)"
      ],
      "execution_count": null,
      "outputs": []
    },
    {
      "cell_type": "code",
      "metadata": {
        "id": "JTuzghDlMyTB"
      },
      "source": [
        "sns.histplot(low_accidents_city , log_scale=True)"
      ],
      "execution_count": null,
      "outputs": []
    },
    {
      "cell_type": "code",
      "metadata": {
        "id": "rA2MqVK3Nodp"
      },
      "source": [
        "city_by_accident[city_by_accident==1]"
      ],
      "execution_count": null,
      "outputs": []
    },
    {
      "cell_type": "markdown",
      "metadata": {
        "id": "G4zwzXN77jJz"
      },
      "source": [
        "#### Start time"
      ]
    },
    {
      "cell_type": "code",
      "metadata": {
        "id": "zC49NtGoNobB"
      },
      "source": [
        "df.Start_Time[0]"
      ],
      "execution_count": null,
      "outputs": []
    },
    {
      "cell_type": "code",
      "metadata": {
        "id": "eJTBE2Zk7w-4"
      },
      "source": [
        "df.Start_Time=pd.to_datetime(df.Start_Time)"
      ],
      "execution_count": null,
      "outputs": []
    },
    {
      "cell_type": "code",
      "metadata": {
        "id": "zto7gjlZ7w7d"
      },
      "source": [
        "df.Start_Time.dt.hour"
      ],
      "execution_count": null,
      "outputs": []
    },
    {
      "cell_type": "code",
      "metadata": {
        "id": "TC4XRfb_7w4b"
      },
      "source": [
        "sns.distplot(df.Start_Time.dt.hour, bins=24, kde=False, norm_hist=True)"
      ],
      "execution_count": null,
      "outputs": []
    },
    {
      "cell_type": "markdown",
      "metadata": {
        "id": "K4VkbFL4qzwu"
      },
      "source": [
        "High percentage no of acciends occur between 6am to 10am (probably due to work rush)\n",
        "Next high percentage of accidents happen between 3pm to 6pm."
      ]
    },
    {
      "cell_type": "code",
      "metadata": {
        "id": "Czi4yAJd7w1-"
      },
      "source": [
        "df.Start_Time[df.Start_Time.dt.dayofweek==6]"
      ],
      "execution_count": null,
      "outputs": []
    },
    {
      "cell_type": "code",
      "metadata": {
        "id": "PN6CofyEyzQH"
      },
      "source": [
        "sunday_Start_Time=df.Start_Time[df.Start_Time.dt.dayofweek==6]\n",
        "sunday_Start_Time"
      ],
      "execution_count": null,
      "outputs": []
    },
    {
      "cell_type": "code",
      "metadata": {
        "id": "tXerh74zyzM0"
      },
      "source": [
        "sns.distplot(sunday_Start_Time.dt.hour, bins=24, kde=False, norm_hist=True)"
      ],
      "execution_count": null,
      "outputs": []
    },
    {
      "cell_type": "code",
      "metadata": {
        "id": "elMmb02cyzKM"
      },
      "source": [
        "months_Start_Time=df.Start_Time[df.Start_Time.dt.month==12]\n",
        "months_Start_Time"
      ],
      "execution_count": null,
      "outputs": []
    },
    {
      "cell_type": "code",
      "metadata": {
        "id": "sMGXdkFHyzHz"
      },
      "source": [
        "sns.distplot(sunday_Start_Time.dt.month, bins=12, kde=False, norm_hist=True)"
      ],
      "execution_count": null,
      "outputs": []
    },
    {
      "cell_type": "code",
      "metadata": {
        "id": "OVawTNqCyzFF"
      },
      "source": [
        "monday_Start_Time=df.Start_Time[df.Start_Time.dt.dayofweek==6]\n",
        "monday_Start_Time"
      ],
      "execution_count": null,
      "outputs": []
    },
    {
      "cell_type": "code",
      "metadata": {
        "id": "SrIdAKcdyzCb"
      },
      "source": [
        "sns.distplot(monday_Start_Time.dt.month, bins=12, kde=False, norm_hist=True)"
      ],
      "execution_count": null,
      "outputs": []
    },
    {
      "cell_type": "code",
      "metadata": {
        "id": "zKf7l62rUA9T"
      },
      "source": [
        "df_2016= df[df.Start_Time.dt.year==2016]\n"
      ],
      "execution_count": null,
      "outputs": []
    },
    {
      "cell_type": "code",
      "metadata": {
        "id": "Ve7q9XyMUA67"
      },
      "source": [
        "sns.distplot(df_2016.Start_Time.dt.month, bins=12, kde=False, norm_hist=True)"
      ],
      "execution_count": null,
      "outputs": []
    },
    {
      "cell_type": "markdown",
      "metadata": {
        "id": "zapi1-dqf5sg"
      },
      "source": [
        "#### Start Latitude and Start Longitude"
      ]
    },
    {
      "cell_type": "code",
      "metadata": {
        "id": "2icKhE0OUA4a"
      },
      "source": [
        "df.Start_Lng"
      ],
      "execution_count": null,
      "outputs": []
    },
    {
      "cell_type": "code",
      "metadata": {
        "id": "tkpZDIuDUA1z"
      },
      "source": [
        "sns.scatterplot(x=df.Start_Lng, y=df.Start_Lat)"
      ],
      "execution_count": null,
      "outputs": []
    },
    {
      "cell_type": "code",
      "metadata": {
        "colab": {
          "base_uri": "https://localhost:8080/",
          "height": 300
        },
        "id": "xr_ndXOPUAzY",
        "outputId": "d0ee5759-0cf6-489d-8515-1f5a71740163"
      },
      "source": [
        "sample_df = df.sample(int(0.1*len(df)))\n",
        "sns.scatterplot(x=sample_df.Start_Lng, y=sample_df.Start_Lat, size=0.001)"
      ],
      "execution_count": null,
      "outputs": [
        {
          "output_type": "execute_result",
          "data": {
            "text/plain": [
              "<matplotlib.axes._subplots.AxesSubplot at 0x7f8d9e580c50>"
            ]
          },
          "metadata": {
            "tags": []
          },
          "execution_count": 0
        },
        {
          "output_type": "display_data",
          "data": {
            "image/png": "[encoded data removed]",
            "text/plain": [
              "<Figure size 432x288 with 1 Axes>"
            ]
          },
          "metadata": {
            "tags": []
          }
        }
      ]
    },
    {
      "cell_type": "code",
      "metadata": {
        "id": "Dt2wyhl3UAvO"
      },
      "source": [
        "import folium"
      ],
      "execution_count": null,
      "outputs": []
    },
    {
      "cell_type": "code",
      "metadata": {
        "id": "CN7f0Jw9NoYa"
      },
      "source": [
        "folium.Map(location = [38.9, -77.05],zoom_start=12)"
      ],
      "execution_count": null,
      "outputs": []
    },
    {
      "cell_type": "code",
      "metadata": {
        "id": "cUPpcFZi0U0J"
      },
      "source": [
        "map=folium.Map()"
      ],
      "execution_count": null,
      "outputs": []
    },
    {
      "cell_type": "code",
      "metadata": {
        "id": "Z3Dw9XGC0UxV"
      },
      "source": [
        "lat,lng = df.Start_Lat[0],df.Start_Lng[0]\n",
        "lat,lng"
      ],
      "execution_count": null,
      "outputs": []
    },
    {
      "cell_type": "code",
      "metadata": {
        "colab": {
          "base_uri": "https://localhost:8080/",
          "height": 863
        },
        "id": "rDHfuMUy0Uv9",
        "outputId": "a0d05757-f538-4811-f358-73f334d1879d"
      },
      "source": [
        "map=folium.Map()\n",
        "marker=folium.Marker((lat,lng))\n",
        "marker.add_to(map)\n",
        "map"
      ],
      "execution_count": null,
      "outputs": [
        {
          "output_type": "execute_result",
          "data": {
            "text/html": [
              "<div style=\"width:100%;\"><div style=\"position:relative;width:100%;height:0;padding-bottom:60%;\"><span style=\"color:#565656\">Make this Notebook Trusted to load map: File -> Trust Notebook</span><iframe src=\"about:blank\" style=\"position:absolute;width:100%;height:100%;left:0;top:0;border:none !important;\" data-html=%3C%21DOCTYPE%20html%3E%0A%3Chead%3E%20%20%20%20%0A%20%20%20%20%3Cmeta%20http-equiv%3D%22content-type%22%20content%3D%22text/html%3B%20charset%3DUTF-8%22%20/%3E%0A%20%20%20%20%3Cscript%3EL_PREFER_CANVAS%3Dfalse%3B%20L_NO_TOUCH%3Dfalse%3B%20L_DISABLE_3D%3Dfalse%3B%3C/script%3E%0A%20%20%20%20%3Cscript%20src%3D%22https%3A//cdn.jsdelivr.net/npm/leaflet%401.4.0/dist/leaflet.js%22%3E%3C/script%3E%0A%20%20%20%20%3Cscript%20src%3D%22https%3A//code.jquery.com/jquery-1.12.4.min.js%22%3E%3C/script%3E%0A%20%20%20%20%3Cscript%20src%3D%22https%3A//maxcdn.bootstrapcdn.com/bootstrap/3.2.0/js/bootstrap.min.js%22%3E%3C/script%3E%0A%20%20%20%20%3Cscript%20src%3D%22https%3A//cdnjs.cloudflare.com/ajax/libs/Leaflet.awesome-markers/2.0.2/leaflet.awesome-markers.js%22%3E%3C/script%3E%0A%20%20%20%20%3Clink%20rel%3D%22stylesheet%22%20href%3D%22https%3A//cdn.jsdelivr.net/npm/leaflet%401.4.0/dist/leaflet.css%22/%3E%0A%20%20%20%20%3Clink%20rel%3D%22stylesheet%22%20href%3D%22https%3A//maxcdn.bootstrapcdn.com/bootstrap/3.2.0/css/bootstrap.min.css%22/%3E%0A%20%20%20%20%3Clink%20rel%3D%22stylesheet%22%20href%3D%22https%3A//maxcdn.bootstrapcdn.com/bootstrap/3.2.0/css/bootstrap-theme.min.css%22/%3E%0A%20%20%20%20%3Clink%20rel%3D%22stylesheet%22%20href%3D%22https%3A//maxcdn.bootstrapcdn.com/font-awesome/4.6.3/css/font-awesome.min.css%22/%3E%0A%20%20%20%20%3Clink%20rel%3D%22stylesheet%22%20href%3D%22https%3A//cdnjs.cloudflare.com/ajax/libs/Leaflet.awesome-markers/2.0.2/leaflet.awesome-markers.css%22/%3E%0A%20%20%20%20%3Clink%20rel%3D%22stylesheet%22%20href%3D%22https%3A//rawcdn.githack.com/python-visualization/folium/master/folium/templates/leaflet.awesome.rotate.css%22/%3E%0A%20%20%20%20%3Cstyle%3Ehtml%2C%20body%20%7Bwidth%3A%20100%25%3Bheight%3A%20100%25%3Bmargin%3A%200%3Bpadding%3A%200%3B%7D%3C/style%3E%0A%20%20%20%20%3Cstyle%3E%23map%20%7Bposition%3Aabsolute%3Btop%3A0%3Bbottom%3A0%3Bright%3A0%3Bleft%3A0%3B%7D%3C/style%3E%0A%20%20%20%20%0A%20%20%20%20%3Cmeta%20name%3D%22viewport%22%20content%3D%22width%3Ddevice-width%2C%0A%20%20%20%20%20%20%20%20initial-scale%3D1.0%2C%20maximum-scale%3D1.0%2C%20user-scalable%3Dno%22%20/%3E%0A%20%20%20%20%3Cstyle%3E%23map_c7940ea5c5654bc0a09b76fece61d42d%20%7B%0A%20%20%20%20%20%20%20%20position%3A%20relative%3B%0A%20%20%20%20%20%20%20%20width%3A%20100.0%25%3B%0A%20%20%20%20%20%20%20%20height%3A%20100.0%25%3B%0A%20%20%20%20%20%20%20%20left%3A%200.0%25%3B%0A%20%20%20%20%20%20%20%20top%3A%200.0%25%3B%0A%20%20%20%20%20%20%20%20%7D%0A%20%20%20%20%3C/style%3E%0A%3C/head%3E%0A%3Cbody%3E%20%20%20%20%0A%20%20%20%20%0A%20%20%20%20%3Cdiv%20class%3D%22folium-map%22%20id%3D%22map_c7940ea5c5654bc0a09b76fece61d42d%22%20%3E%3C/div%3E%0A%3C/body%3E%0A%3Cscript%3E%20%20%20%20%0A%20%20%20%20%0A%20%20%20%20%0A%20%20%20%20%20%20%20%20var%20bounds%20%3D%20null%3B%0A%20%20%20%20%0A%0A%20%20%20%20var%20map_c7940ea5c5654bc0a09b76fece61d42d%20%3D%20L.map%28%0A%20%20%20%20%20%20%20%20%27map_c7940ea5c5654bc0a09b76fece61d42d%27%2C%20%7B%0A%20%20%20%20%20%20%20%20center%3A%20%5B0%2C%200%5D%2C%0A%20%20%20%20%20%20%20%20zoom%3A%201%2C%0A%20%20%20%20%20%20%20%20maxBounds%3A%20bounds%2C%0A%20%20%20%20%20%20%20%20layers%3A%20%5B%5D%2C%0A%20%20%20%20%20%20%20%20worldCopyJump%3A%20false%2C%0A%20%20%20%20%20%20%20%20crs%3A%20L.CRS.EPSG3857%2C%0A%20%20%20%20%20%20%20%20zoomControl%3A%20true%2C%0A%20%20%20%20%20%20%20%20%7D%29%3B%0A%0A%0A%20%20%20%20%0A%20%20%20%20var%20tile_layer_a5e175c55e2c4fbbb7c07b273d9ed36d%20%3D%20L.tileLayer%28%0A%20%20%20%20%20%20%20%20%27https%3A//%7Bs%7D.tile.openstreetmap.org/%7Bz%7D/%7Bx%7D/%7By%7D.png%27%2C%0A%20%20%20%20%20%20%20%20%7B%0A%20%20%20%20%20%20%20%20%22attribution%22%3A%20null%2C%0A%20%20%20%20%20%20%20%20%22detectRetina%22%3A%20false%2C%0A%20%20%20%20%20%20%20%20%22maxNativeZoom%22%3A%2018%2C%0A%20%20%20%20%20%20%20%20%22maxZoom%22%3A%2018%2C%0A%20%20%20%20%20%20%20%20%22minZoom%22%3A%200%2C%0A%20%20%20%20%20%20%20%20%22noWrap%22%3A%20false%2C%0A%20%20%20%20%20%20%20%20%22opacity%22%3A%201%2C%0A%20%20%20%20%20%20%20%20%22subdomains%22%3A%20%22abc%22%2C%0A%20%20%20%20%20%20%20%20%22tms%22%3A%20false%0A%7D%29.addTo%28map_c7940ea5c5654bc0a09b76fece61d42d%29%3B%0A%20%20%20%20%0A%20%20%20%20%20%20%20%20var%20marker_582ee326b250474ba9b83ef9ff75a9c7%20%3D%20L.marker%28%0A%20%20%20%20%20%20%20%20%20%20%20%20%5B34.808868%2C%20-82.26915699999998%5D%2C%0A%20%20%20%20%20%20%20%20%20%20%20%20%7B%0A%20%20%20%20%20%20%20%20%20%20%20%20%20%20%20%20icon%3A%20new%20L.Icon.Default%28%29%2C%0A%20%20%20%20%20%20%20%20%20%20%20%20%20%20%20%20%7D%0A%20%20%20%20%20%20%20%20%20%20%20%20%29.addTo%28map_c7940ea5c5654bc0a09b76fece61d42d%29%3B%0A%20%20%20%20%20%20%20%20%0A%3C/script%3E onload=\"this.contentDocument.open();this.contentDocument.write(    decodeURIComponent(this.getAttribute('data-html')));this.contentDocument.close();\" allowfullscreen webkitallowfullscreen mozallowfullscreen></iframe></div></div>"
            ],
            "text/plain": [
              "<folium.folium.Map at 0x7f8d9bc90910>"
            ]
          },
          "metadata": {
            "tags": []
          },
          "execution_count": 128
        }
      ]
    },
    {
      "cell_type": "code",
      "metadata": {
        "colab": {
          "base_uri": "https://localhost:8080/"
        },
        "id": "V8EJBPg1BmeU",
        "outputId": "4546b26c-2328-4018-d99a-6ed77a308fbd"
      },
      "source": [
        "for x in df[['Start_Lat','Start_Lng']].sample(100).iteritems():\n",
        "  print(x)"
      ],
      "execution_count": null,
      "outputs": [
        {
          "output_type": "stream",
          "text": [
            "('Start_Lat', 819967     33.941669\n",
            "2427086    38.917147\n",
            "717783     35.204933\n",
            "719060     33.593609\n",
            "1431726    45.803332\n",
            "             ...    \n",
            "2435165    39.875760\n",
            "582393     39.152046\n",
            "1374323    35.263777\n",
            "686480     39.564968\n",
            "1004715    30.314735\n",
            "Name: Start_Lat, Length: 100, dtype: float64)\n",
            "('Start_Lng', 819967    -117.277519\n",
            "2427086   -121.561751\n",
            "717783     -80.824303\n",
            "719060     -81.724709\n",
            "1431726   -119.439547\n",
            "              ...    \n",
            "2435165    -75.102270\n",
            "582393     -76.645584\n",
            "1374323   -118.633176\n",
            "686480     -77.294823\n",
            "1004715    -81.792831\n",
            "Name: Start_Lng, Length: 100, dtype: float64)\n"
          ],
          "name": "stdout"
        }
      ]
    },
    {
      "cell_type": "markdown",
      "metadata": {
        "id": "odJokMvqAUbe"
      },
      "source": [
        "Heat Map\n"
      ]
    },
    {
      "cell_type": "code",
      "metadata": {
        "id": "eHwF2QqRBipM"
      },
      "source": [
        "from folium.plugins import HeatMap\n",
        "map = folium.Map()\n",
        "heat_data = list(zip(list(df.Start_Lat),list(df.Start_Lng)))"
      ],
      "execution_count": 137,
      "outputs": []
    },
    {
      "cell_type": "code",
      "metadata": {
        "id": "hNBjpLY5AV02"
      },
      "source": [
        "HeatMap(heat_data).add_to(map)\n",
        "map"
      ],
      "execution_count": null,
      "outputs": []
    },
    {
      "cell_type": "code",
      "metadata": {
        "id": "bqzoi03L0UsU"
      },
      "source": [
        "sample_df=df.sample(int(0.001*len(df)))\n",
        "lat_lon_pairs=list(zip(list(sample_df.Start_Lat),list(sample_df.Start_Lng)))"
      ],
      "execution_count": null,
      "outputs": []
    },
    {
      "cell_type": "code",
      "metadata": {
        "id": "hviaZUpRGaAi"
      },
      "source": [
        "map = folium.Map()\n",
        "HeatMap(lat_lon_pairs).add_to(map)\n",
        "map"
      ],
      "execution_count": null,
      "outputs": []
    },
    {
      "cell_type": "code",
      "metadata": {
        "id": "j-bwCyYp0UmM"
      },
      "source": [
        ""
      ],
      "execution_count": null,
      "outputs": []
    },
    {
      "cell_type": "markdown",
      "metadata": {
        "id": "H16ABKOFbHTl"
      },
      "source": [
        "### Ask and Answer Questions \n",
        "\n",
        "1. which 5 states has the highest accidents? per capita? Answered\n",
        "2. is the no. accidents per city decreses / increases expontially? Answered\n",
        "3. what time of the day are accidents mostly occur? Answered \n",
        "4. which days of the week have the most accidents? Answered\n",
        "5. which months have the most accidents? Answered"
      ]
    },
    {
      "cell_type": "code",
      "metadata": {
        "id": "i7WqypiYaVdl"
      },
      "source": [
        ""
      ],
      "execution_count": null,
      "outputs": []
    },
    {
      "cell_type": "code",
      "metadata": {
        "id": "2fzwukRraVZ2"
      },
      "source": [
        ""
      ],
      "execution_count": null,
      "outputs": []
    },
    {
      "cell_type": "code",
      "metadata": {
        "id": "kAsnVmzxaVWY"
      },
      "source": [
        ""
      ],
      "execution_count": null,
      "outputs": []
    },
    {
      "cell_type": "markdown",
      "metadata": {
        "id": "kj0ZsoCwbSl0"
      },
      "source": [
        "###Conclusion \n",
        "1. no data for new york\n",
        "2. more than 1200 cities have reported accidents\n",
        "3. at the end of the year accidents seems to occur more\n",
        "6. Data is missing in 2016\n",
        "7. The accidents occur in most of coastal areas."
      ]
    },
    {
      "cell_type": "code",
      "metadata": {
        "id": "v4ycxXcaaE6K"
      },
      "source": [
        ""
      ],
      "execution_count": null,
      "outputs": []
    }
  ]
}